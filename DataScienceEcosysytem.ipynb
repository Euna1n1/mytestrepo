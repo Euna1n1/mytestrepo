{
 "cells": [
  {
   "cell_type": "markdown",
   "id": "ca2f87d3-2f9f-4014-8dae-d01ff93634b6",
   "metadata": {},
   "source": [
    "# Data Science Tools and Ecosystem"
   ]
  },
  {
   "cell_type": "markdown",
   "id": "1df24fff-8b5e-4506-ae7a-c3dc993f2b9d",
   "metadata": {},
   "source": [
    "In this notebook, Data Science Tools and Ecosysystem are summarized."
   ]
  },
  {
   "cell_type": "markdown",
   "id": "868527f5-689d-44f6-af43-f9e3c8eabe4d",
   "metadata": {},
   "source": [
    "**Objectives**\n",
    "\n",
    "* List libraries used by Data Scientists\n",
    "* List popular languages in Data Science\n",
    "* Arithmetic expressions in Python\n"
   ]
  },
  {
   "cell_type": "markdown",
   "id": "f4dd106b-6864-44aa-b573-c21081f09c6f",
   "metadata": {},
   "source": [
    "Some of the popular languages that Data Scientists use are:\n",
    "\n",
    "1. Python\n",
    "2. R\n",
    "3. Java\n"
   ]
  },
  {
   "cell_type": "markdown",
   "id": "112aaad8-648b-4080-ab4d-9423ee65c9db",
   "metadata": {},
   "source": [
    "Some of the commonly used libraries used by Data Scientists include:\n",
    "\n",
    "1. Pandas\n",
    "2. NumPy\n",
    "3. Matplotlib"
   ]
  },
  {
   "cell_type": "markdown",
   "id": "212312f2-f4f2-4033-8dd0-c227dd465e4e",
   "metadata": {},
   "source": [
    "|Data Science Tools|\n",
    "|-------|\n",
    "|Git|\n",
    "|Apache Subversion|\n",
    "|IDE Eclipse|\n"
   ]
  },
  {
   "cell_type": "markdown",
   "id": "74d03de7-3959-440b-afc9-b60921000d61",
   "metadata": {},
   "source": [
    "### Below are examples of evaluating arithmetic expressions in Python"
   ]
  },
  {
   "cell_type": "code",
   "execution_count": 4,
   "id": "d0c0fc65-d2e6-40fa-a787-9eb691102b46",
   "metadata": {},
   "outputs": [
    {
     "data": {
      "text/plain": [
       "17"
      ]
     },
     "execution_count": 4,
     "metadata": {},
     "output_type": "execute_result"
    }
   ],
   "source": [
    "# This is a simple arithmetic expression to multiply then add integers\n",
    "(3*4)+5"
   ]
  },
  {
   "cell_type": "code",
   "execution_count": 5,
   "id": "5328c92c-908f-40ec-af6a-ed44d8c6df15",
   "metadata": {},
   "outputs": [
    {
     "data": {
      "text/plain": [
       "3.3333333333333335"
      ]
     },
     "execution_count": 5,
     "metadata": {},
     "output_type": "execute_result"
    }
   ],
   "source": [
    "# This will convert 200 minutes to hours by dividing by 60\n",
    "(200/60)"
   ]
  },
  {
   "cell_type": "markdown",
   "id": "9c400266-76c4-4dbd-bec5-3f657eb416ec",
   "metadata": {},
   "source": [
    "## Author\n",
    "ROLANDO DE ASIS\n"
   ]
  },
  {
   "cell_type": "markdown",
   "id": "42c499c7-341f-493d-8188-38f95c33e6a5",
   "metadata": {},
   "source": []
  }
 ],
 "metadata": {
  "kernelspec": {
   "display_name": "Python",
   "language": "python",
   "name": "conda-env-python-py"
  },
  "language_info": {
   "codemirror_mode": {
    "name": "ipython",
    "version": 3
   },
   "file_extension": ".py",
   "mimetype": "text/x-python",
   "name": "python",
   "nbconvert_exporter": "python",
   "pygments_lexer": "ipython3",
   "version": "3.7.12"
  }
 },
 "nbformat": 4,
 "nbformat_minor": 5
}
