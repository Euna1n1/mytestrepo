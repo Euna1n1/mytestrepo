{
 "cells": [
  {
   "cell_type": "markdown",
   "id": "e366b3ee-d8fc-4b0e-b42d-548377f1d53b",
   "metadata": {},
   "source": [
    "<h1>Data Science Tools and Ecosystem"
   ]
  },
  {
   "cell_type": "markdown",
   "id": "6fdec2a8-5dd5-4d3d-9a05-0af1796701ee",
   "metadata": {},
   "source": [
    "In this notebook, Data Science Tools and Ecosystem summarized."
   ]
  },
  {
   "cell_type": "markdown",
   "id": "635230ad-20ef-42fc-a98d-912586d33a15",
   "metadata": {},
   "source": [
    "**Objectives:**"
   ]
  },
  {
   "cell_type": "code",
   "execution_count": 1,
   "id": "c2659653-7e35-49a2-9c03-b9c18790a33b",
   "metadata": {},
   "outputs": [
    {
     "name": "stdout",
     "output_type": "stream",
     "text": [
      "List libraries used by Data Scientists\n",
      "List popular languages in Data Science\n",
      "Arithmetic expressions in Python\n"
     ]
    }
   ],
   "source": [
    "obj_list = [\"List libraries used by Data Scientists\",\"List popular languages in Data Science\",\"Arithmetic expressions in Python\"]\n",
    "\n",
    "for i in obj_list:\n",
    "    print (i)\n"
   ]
  },
  {
   "cell_type": "markdown",
   "id": "e23bdfd4-ae4a-4719-ad71-d258cee11599",
   "metadata": {},
   "source": [
    "Some of the popular languages that Data Scientists use are:"
   ]
  },
  {
   "cell_type": "code",
   "execution_count": 28,
   "id": "2854fb41-b413-4869-abe8-18877baa3d42",
   "metadata": {},
   "outputs": [
    {
     "name": "stdout",
     "output_type": "stream",
     "text": [
      "Java\n",
      "Python\n",
      "R\n"
     ]
    }
   ],
   "source": [
    "lang_list=[\"Python\",\"R\",\"Java\"]\n",
    "lang_list.sort()\n",
    "\n",
    "for i in lang_list:\n",
    "    print (i)"
   ]
  },
  {
   "cell_type": "markdown",
   "id": "3573e4bc-f623-459e-aa77-d831b2dfd24c",
   "metadata": {},
   "source": [
    "Some of the commonly used libraries used by Data Scientists include:"
   ]
  },
  {
   "cell_type": "code",
   "execution_count": 29,
   "id": "b7dcacc2-0350-4697-82d2-6407a8dad93b",
   "metadata": {},
   "outputs": [
    {
     "name": "stdout",
     "output_type": "stream",
     "text": [
      "Matplotlib\n",
      "NumPy\n",
      "Pandas\n"
     ]
    }
   ],
   "source": [
    "lib_list=[\"Pandas\",\"NumPy\",\"Matplotlib\"]\n",
    "lib_list.sort()\n",
    "\n",
    "for i in lib_list:\n",
    "    print (i)"
   ]
  },
  {
   "cell_type": "markdown",
   "id": "39f59b14-8a1c-41c8-850d-6eea846725b9",
   "metadata": {},
   "source": [
    "|Data Science Tools|\n",
    "|------------------|\n",
    "|Git|\n",
    "|Apache Subversion|\n",
    "|Eclipse IDE|\n"
   ]
  },
  {
   "cell_type": "markdown",
   "id": "772fa9f0-1858-461b-b15d-786da6d5c250",
   "metadata": {},
   "source": [
    "<h3>Below are a few examples of evaluating arithmetic expresions in Python"
   ]
  },
  {
   "cell_type": "markdown",
   "id": "3df3925c-8480-4576-a9e6-440d80e5462b",
   "metadata": {},
   "source": [
    "This is a simple arithmetic expression to multiply then add integers"
   ]
  },
  {
   "cell_type": "code",
   "execution_count": 14,
   "id": "a19b9c3a-f0fd-4b8c-bf91-ca1334d0484c",
   "metadata": {},
   "outputs": [
    {
     "data": {
      "text/plain": [
       "17"
      ]
     },
     "execution_count": 14,
     "metadata": {},
     "output_type": "execute_result"
    }
   ],
   "source": [
    "(3*4)+5"
   ]
  },
  {
   "cell_type": "markdown",
   "id": "56d08115-4ca1-4957-8756-a78e9e6955e0",
   "metadata": {},
   "source": [
    "This will convert 200 minutes to hours by dividing by 60"
   ]
  },
  {
   "cell_type": "code",
   "execution_count": 15,
   "id": "bb2767d9-f8be-4481-a93a-76ebe62cf06c",
   "metadata": {},
   "outputs": [
    {
     "data": {
      "text/plain": [
       "3.3333333333333335"
      ]
     },
     "execution_count": 15,
     "metadata": {},
     "output_type": "execute_result"
    }
   ],
   "source": [
    "200/60"
   ]
  },
  {
   "cell_type": "markdown",
   "id": "ddc30a98-b5b6-4c73-b71c-d847288ee570",
   "metadata": {},
   "source": [
    "<h2>Author"
   ]
  },
  {
   "cell_type": "markdown",
   "id": "c9f36b9b-c338-48f3-a870-be507bf3e961",
   "metadata": {},
   "source": [
    "ROLANDO DE ASIS"
   ]
  },
  {
   "cell_type": "code",
   "execution_count": null,
   "id": "4b389222-0d75-4f18-b1c7-969a1dd71109",
   "metadata": {},
   "outputs": [],
   "source": []
  }
 ],
 "metadata": {
  "kernelspec": {
   "display_name": "Python",
   "language": "python",
   "name": "conda-env-python-py"
  },
  "language_info": {
   "codemirror_mode": {
    "name": "ipython",
    "version": 3
   },
   "file_extension": ".py",
   "mimetype": "text/x-python",
   "name": "python",
   "nbconvert_exporter": "python",
   "pygments_lexer": "ipython3",
   "version": "3.7.12"
  }
 },
 "nbformat": 4,
 "nbformat_minor": 5
}
